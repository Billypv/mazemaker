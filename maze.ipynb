{
 "cells": [
  {
   "cell_type": "code",
   "execution_count": 151,
   "metadata": {},
   "outputs": [],
   "source": [
    "import numpy as np\n",
    "import random"
   ]
  },
  {
   "cell_type": "code",
   "execution_count": 152,
   "metadata": {},
   "outputs": [],
   "source": [
    "def path_to_exit(maze):\n",
    "    \n",
    "    return"
   ]
  },
  {
   "cell_type": "code",
   "execution_count": 153,
   "metadata": {},
   "outputs": [],
   "source": [
    "def frontier_generation(random_node, size,frontier,visited_nodes):\n",
    "    #adding to frontier\n",
    "    if(random_node[0] == 0):\n",
    "        if random_node[1] == 0:\n",
    "            frontier.add((0,1))\n",
    "            frontier.add((1,0))\n",
    "        elif random_node[1] == size -1:\n",
    "            frontier.add((0,size-2))\n",
    "            frontier.add((1,size-1))\n",
    "        else:\n",
    "            frontier.add((random_node[0],random_node[1]-1))\n",
    "            frontier.add((random_node[0],random_node[1]+1))\n",
    "            frontier.add((random_node[0]+1,random_node[1]))\n",
    "    elif(random_node[0] == size -1):\n",
    "        if random_node[1] == 0:\n",
    "            frontier.add((size-2,0))\n",
    "            frontier.add((size-1,1))\n",
    "        elif random_node[1] == size -1:\n",
    "            frontier.add((size-1,size-2))\n",
    "            frontier.add((size-2,size-1))\n",
    "        else:\n",
    "            frontier.add((random_node[0],random_node[1]-1))\n",
    "            frontier.add((random_node[0],random_node[1]+1))\n",
    "            frontier.add((random_node[0]-1,random_node[1])) \n",
    "    elif(random_node[1] == 0):\n",
    "            frontier.add((random_node[0]+1,random_node[1]))\n",
    "            frontier.add((random_node[0],random_node[1]+1))\n",
    "            frontier.add((random_node[0]-1,random_node[1]))\n",
    "    elif(random_node[1] == size-1):\n",
    "            frontier.add((random_node[0]+1,random_node[1]))\n",
    "            frontier.add((random_node[0],random_node[1]-1))\n",
    "            frontier.add((random_node[0]-1,random_node[1]))\n",
    "    \n",
    "    frontier = {tile for tile in frontier if tile not in visited_nodes}\n",
    "    \n",
    "    return frontier     \n",
    "\n",
    "    \n",
    "    \n",
    "    \n",
    "    \n",
    "    \n",
    "    \n",
    "    "
   ]
  },
  {
   "cell_type": "code",
   "execution_count": 154,
   "metadata": {},
   "outputs": [],
   "source": [
    "def create_maze(size):\n",
    "    maze = [[{\"up\":False,\"down\":False,\"left\":False,\"right\":False}]]\n",
    "    maze[0] = maze[0] * size\n",
    "    maze = maze * size\n",
    "    current_node =(random.randint(0,size - 1),random.randint(0,size - 1))\n",
    "    visited_nodes ={current_node}\n",
    "    frontier = frontier_generation(current_node,size,set(),visited_nodes)\n",
    "    while len(visited_nodes) < size ** 2:\n",
    "        #pick random node\n",
    "        # random.sample(frontier)\n",
    "        print(random.choice(frontier))\n",
    "        #connect nodes\n",
    "        #update frontier#\n",
    "        \n",
    "    \n",
    "    return maze"
   ]
  },
  {
   "cell_type": "code",
   "execution_count": 155,
   "metadata": {},
   "outputs": [],
   "source": [
    "def print_maze(maze):\n",
    "    return\n"
   ]
  },
  {
   "cell_type": "code",
   "execution_count": 156,
   "metadata": {},
   "outputs": [
    {
     "ename": "IndexError",
     "evalue": "Cannot choose from an empty sequence",
     "output_type": "error",
     "traceback": [
      "\u001b[0;31m---------------------------------------------------------------------------\u001b[0m",
      "\u001b[0;31mIndexError\u001b[0m                                Traceback (most recent call last)",
      "\u001b[1;32m/mnt/d/All C++/workspaces/randompythonfiles/maze.ipynb Cell 6'\u001b[0m in \u001b[0;36m<module>\u001b[0;34m\u001b[0m\n\u001b[0;32m----> <a href='vscode-notebook-cell://wsl%2Bubuntu/mnt/d/All%20C%2B%2B/workspaces/randompythonfiles/maze.ipynb#ch0000003vscode-remote?line=0'>1</a>\u001b[0m \u001b[39mprint\u001b[39m(create_maze(\u001b[39m6\u001b[39;49m))\n",
      "\u001b[1;32m/mnt/d/All C++/workspaces/randompythonfiles/maze.ipynb Cell 4'\u001b[0m in \u001b[0;36mcreate_maze\u001b[0;34m(size)\u001b[0m\n\u001b[1;32m      <a href='vscode-notebook-cell://wsl%2Bubuntu/mnt/d/All%20C%2B%2B/workspaces/randompythonfiles/maze.ipynb#ch0000001vscode-remote?line=6'>7</a>\u001b[0m frontier \u001b[39m=\u001b[39m frontier_generation(current_node,size,\u001b[39mset\u001b[39m(),visited_nodes)\n\u001b[1;32m      <a href='vscode-notebook-cell://wsl%2Bubuntu/mnt/d/All%20C%2B%2B/workspaces/randompythonfiles/maze.ipynb#ch0000001vscode-remote?line=7'>8</a>\u001b[0m \u001b[39mwhile\u001b[39;00m \u001b[39mlen\u001b[39m(visited_nodes) \u001b[39m<\u001b[39m size \u001b[39m*\u001b[39m\u001b[39m*\u001b[39m \u001b[39m2\u001b[39m:\n\u001b[1;32m      <a href='vscode-notebook-cell://wsl%2Bubuntu/mnt/d/All%20C%2B%2B/workspaces/randompythonfiles/maze.ipynb#ch0000001vscode-remote?line=8'>9</a>\u001b[0m     \u001b[39m#pick random node\u001b[39;00m\n\u001b[1;32m     <a href='vscode-notebook-cell://wsl%2Bubuntu/mnt/d/All%20C%2B%2B/workspaces/randompythonfiles/maze.ipynb#ch0000001vscode-remote?line=9'>10</a>\u001b[0m     \u001b[39m# random.sample(frontier)\u001b[39;00m\n\u001b[0;32m---> <a href='vscode-notebook-cell://wsl%2Bubuntu/mnt/d/All%20C%2B%2B/workspaces/randompythonfiles/maze.ipynb#ch0000001vscode-remote?line=10'>11</a>\u001b[0m     \u001b[39mprint\u001b[39m(random\u001b[39m.\u001b[39;49mchoice(frontier))\n\u001b[1;32m     <a href='vscode-notebook-cell://wsl%2Bubuntu/mnt/d/All%20C%2B%2B/workspaces/randompythonfiles/maze.ipynb#ch0000001vscode-remote?line=11'>12</a>\u001b[0m     \u001b[39m#connect nodes\u001b[39;00m\n\u001b[1;32m     <a href='vscode-notebook-cell://wsl%2Bubuntu/mnt/d/All%20C%2B%2B/workspaces/randompythonfiles/maze.ipynb#ch0000001vscode-remote?line=12'>13</a>\u001b[0m     \u001b[39m#update frontier#\u001b[39;00m\n\u001b[1;32m     <a href='vscode-notebook-cell://wsl%2Bubuntu/mnt/d/All%20C%2B%2B/workspaces/randompythonfiles/maze.ipynb#ch0000001vscode-remote?line=15'>16</a>\u001b[0m \u001b[39mreturn\u001b[39;00m maze\n",
      "File \u001b[0;32m/usr/lib/python3.8/random.py:290\u001b[0m, in \u001b[0;36mRandom.choice\u001b[0;34m(self, seq)\u001b[0m\n\u001b[1;32m    <a href='file:///usr/lib/python3.8/random.py?line=287'>288</a>\u001b[0m     i \u001b[39m=\u001b[39m \u001b[39mself\u001b[39m\u001b[39m.\u001b[39m_randbelow(\u001b[39mlen\u001b[39m(seq))\n\u001b[1;32m    <a href='file:///usr/lib/python3.8/random.py?line=288'>289</a>\u001b[0m \u001b[39mexcept\u001b[39;00m \u001b[39mValueError\u001b[39;00m:\n\u001b[0;32m--> <a href='file:///usr/lib/python3.8/random.py?line=289'>290</a>\u001b[0m     \u001b[39mraise\u001b[39;00m \u001b[39mIndexError\u001b[39;00m(\u001b[39m'\u001b[39m\u001b[39mCannot choose from an empty sequence\u001b[39m\u001b[39m'\u001b[39m) \u001b[39mfrom\u001b[39;00m \u001b[39mNone\u001b[39m\n\u001b[1;32m    <a href='file:///usr/lib/python3.8/random.py?line=290'>291</a>\u001b[0m \u001b[39mreturn\u001b[39;00m seq[i]\n",
      "\u001b[0;31mIndexError\u001b[0m: Cannot choose from an empty sequence"
     ]
    }
   ],
   "source": [
    "print(create_maze(6))\n"
   ]
  }
 ],
 "metadata": {
  "interpreter": {
   "hash": "916dbcbb3f70747c44a77c7bcd40155683ae19c65e1c03b4aa3499c5328201f1"
  },
  "kernelspec": {
   "display_name": "Python 3.8.10 64-bit",
   "language": "python",
   "name": "python3"
  },
  "language_info": {
   "codemirror_mode": {
    "name": "ipython",
    "version": 3
   },
   "file_extension": ".py",
   "mimetype": "text/x-python",
   "name": "python",
   "nbconvert_exporter": "python",
   "pygments_lexer": "ipython3",
   "version": "3.8.10"
  },
  "orig_nbformat": 4
 },
 "nbformat": 4,
 "nbformat_minor": 2
}
