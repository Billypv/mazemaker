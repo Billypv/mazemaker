{
 "cells": [
  {
   "cell_type": "code",
   "execution_count": 112,
   "metadata": {},
   "outputs": [],
   "source": [
    "import numpy as np\n",
    "import random"
   ]
  },
  {
   "cell_type": "code",
   "execution_count": 113,
   "metadata": {},
   "outputs": [],
   "source": [
    "def path_to_exit(maze):\n",
    "    \n",
    "    return"
   ]
  },
  {
   "cell_type": "code",
   "execution_count": 114,
   "metadata": {},
   "outputs": [],
   "source": [
    "def frontier_generation(random_node, size,frontier,visited_nodes):\n",
    "    #adding to frontier\n",
    "    if(random_node[0] == 0):\n",
    "        if random_node[1] == 0:\n",
    "            frontier.add((0,1))\n",
    "            frontier.add((1,0))\n",
    "        elif random_node[1] == size -1:\n",
    "            frontier.add((0,size-2))\n",
    "            frontier.add((1,size-1))\n",
    "        else:\n",
    "            frontier.add((random_node[0],random_node[1]-1))\n",
    "            frontier.add((random_node[0],random_node[1]+1))\n",
    "            frontier.add((random_node[0]+1,random_node[1]))\n",
    "    elif(random_node[0] == size -1):\n",
    "        if random_node[1] == 0:\n",
    "            frontier.add((size-2,0))\n",
    "            frontier.add((size-1,1))\n",
    "        elif random_node[1] == size -1:\n",
    "            frontier.add((size-1,size-2))\n",
    "            frontier.add((size-2,size-1))\n",
    "        else:\n",
    "            frontier.add((random_node[0],random_node[1]-1))\n",
    "            frontier.add((random_node[0],random_node[1]+1))\n",
    "            frontier.add((random_node[0]-1,random_node[1])) \n",
    "    elif(random_node[1] == 0):\n",
    "            frontier.add((random_node[0]+1,random_node[1]))\n",
    "            frontier.add((random_node[0],random_node[1]+1))\n",
    "            frontier.add((random_node[0]-1,random_node[1]))\n",
    "    elif(random_node[1] == size-1):\n",
    "            frontier.add((random_node[0]+1,random_node[1]))\n",
    "            frontier.add((random_node[0],random_node[1]-1))\n",
    "            frontier.add((random_node[0]-1,random_node[1]))\n",
    "    \n",
    "    frontier = {tile for tile in frontier if tile not in visited_nodes}\n",
    "    \n",
    "    return frontier     \n",
    "\n",
    "    \n",
    "    \n",
    "    \n",
    "    \n",
    "    \n",
    "    \n",
    "    "
   ]
  },
  {
   "cell_type": "code",
   "execution_count": 115,
   "metadata": {},
   "outputs": [],
   "source": [
    "def create_maze(size):\n",
    "    maze = [[{\"up\":False,\"down\":False,\"left\":False,\"right\":False}]]\n",
    "    maze[0] = maze[0] * size\n",
    "    maze = maze * size\n",
    "    current_node =(random.randint(0,size - 1),random.randint(0,size - 1))\n",
    "    visited_nodes ={current_node}\n",
    "    frontier = frontier_generation(current_node,size,{},visited_nodes)\n",
    "    while len(visited_nodes) < size ** 2:\n",
    "        #pick random node\n",
    "        #connect nodes\n",
    "        #update frontier#\n",
    "        \n",
    "    \n",
    "    return maze"
   ]
  },
  {
   "cell_type": "code",
   "execution_count": 116,
   "metadata": {},
   "outputs": [],
   "source": [
    "def print_maze(maze):\n",
    "    return\n"
   ]
  },
  {
   "cell_type": "code",
   "execution_count": 117,
   "metadata": {},
   "outputs": [
    {
     "name": "stdout",
     "output_type": "stream",
     "text": [
      "[[{'up': False, 'down': False, 'left': False, 'right': False}, {'up': False, 'down': False, 'left': False, 'right': False}, {'up': False, 'down': False, 'left': False, 'right': False}, {'up': False, 'down': False, 'left': False, 'right': False}, {'up': False, 'down': False, 'left': False, 'right': False}, {'up': False, 'down': False, 'left': False, 'right': False}], [{'up': False, 'down': False, 'left': False, 'right': False}, {'up': False, 'down': False, 'left': False, 'right': False}, {'up': False, 'down': False, 'left': False, 'right': False}, {'up': False, 'down': False, 'left': False, 'right': False}, {'up': False, 'down': False, 'left': False, 'right': False}, {'up': False, 'down': False, 'left': False, 'right': False}], [{'up': False, 'down': False, 'left': False, 'right': False}, {'up': False, 'down': False, 'left': False, 'right': False}, {'up': False, 'down': False, 'left': False, 'right': False}, {'up': False, 'down': False, 'left': False, 'right': False}, {'up': False, 'down': False, 'left': False, 'right': False}, {'up': False, 'down': False, 'left': False, 'right': False}], [{'up': False, 'down': False, 'left': False, 'right': False}, {'up': False, 'down': False, 'left': False, 'right': False}, {'up': False, 'down': False, 'left': False, 'right': False}, {'up': False, 'down': False, 'left': False, 'right': False}, {'up': False, 'down': False, 'left': False, 'right': False}, {'up': False, 'down': False, 'left': False, 'right': False}], [{'up': False, 'down': False, 'left': False, 'right': False}, {'up': False, 'down': False, 'left': False, 'right': False}, {'up': False, 'down': False, 'left': False, 'right': False}, {'up': False, 'down': False, 'left': False, 'right': False}, {'up': False, 'down': False, 'left': False, 'right': False}, {'up': False, 'down': False, 'left': False, 'right': False}], [{'up': False, 'down': False, 'left': False, 'right': False}, {'up': False, 'down': False, 'left': False, 'right': False}, {'up': False, 'down': False, 'left': False, 'right': False}, {'up': False, 'down': False, 'left': False, 'right': False}, {'up': False, 'down': False, 'left': False, 'right': False}, {'up': False, 'down': False, 'left': False, 'right': False}]]\n"
     ]
    }
   ],
   "source": [
    "print(create_maze(6))\n"
   ]
  }
 ],
 "metadata": {
  "interpreter": {
   "hash": "916dbcbb3f70747c44a77c7bcd40155683ae19c65e1c03b4aa3499c5328201f1"
  },
  "kernelspec": {
   "display_name": "Python 3.8.10 64-bit",
   "language": "python",
   "name": "python3"
  },
  "language_info": {
   "codemirror_mode": {
    "name": "ipython",
    "version": 3
   },
   "file_extension": ".py",
   "mimetype": "text/x-python",
   "name": "python",
   "nbconvert_exporter": "python",
   "pygments_lexer": "ipython3",
   "version": "3.8.10"
  },
  "orig_nbformat": 4
 },
 "nbformat": 4,
 "nbformat_minor": 2
}
